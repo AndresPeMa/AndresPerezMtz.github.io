{
 "cells": [
  {
   "cell_type": "markdown",
   "id": "2c2ec51c",
   "metadata": {},
   "source": [
    "\n",
    "# Purpose: Comparing OLS, Ridge, NN, SVM Models for Cambodia and Ethiopia Farming Data. \n",
    "\n",
    "### Names: Betsy Alter, Andres Perez, Joshua Short, Su Jung Teng.\n",
    "\n",
    "#### Date: April 20, 2023"
   ]
  },
  {
   "cell_type": "code",
   "execution_count": 1,
   "id": "d5528eb0",
   "metadata": {},
   "outputs": [],
   "source": [
    "import statsmodels.api as sm\n",
    "import pandas as pd\n",
    "import numpy as np\n",
    "import matplotlib.pyplot as plt \n",
    "from sklearn.linear_model import LinearRegression\n",
    "from sklearn.linear_model import Ridge\n",
    "from sklearn.linear_model import RidgeCV\n",
    "from sklearn.model_selection import GridSearchCV\n",
    "from sklearn.model_selection import cross_val_score #R squared\n",
    "from sklearn.metrics import mean_squared_error\n",
    "from sklearn.model_selection import train_test_split\n",
    "from sklearn.preprocessing import PolynomialFeatures\n",
    "from sklearn.metrics import r2_score\n",
    "from sklearn.model_selection import train_test_split, cross_val_score\n",
    "from sklearn.preprocessing import StandardScaler\n",
    "from sklearn.model_selection import train_test_split, GridSearchCV\n",
    "from sklearn.neural_network import MLPClassifier\n",
    "from sklearn.svm import SVC\n",
    "from sklearn.metrics import accuracy_score, precision_score, recall_score, f1_score, roc_auc_score, confusion_matrix\n",
    "from sklearn.ensemble import RandomForestClassifier\n",
    "import warnings\n",
    "warnings.filterwarnings('ignore')\n",
    "import os"
   ]
  },
  {
   "cell_type": "code",
   "execution_count": 2,
   "id": "446f047b",
   "metadata": {},
   "outputs": [],
   "source": [
    "#Set Working Directory\n",
    "#os.chdir(\"E:\\...\")\n",
    "\n",
    "#REMEMBER TO GET RID OF ALL THE NAs IN YOUR DATASET\n",
    "\n",
    "\n",
    "#Load Data\n",
    "df = pd.read_csv('everything_CAM.csv')"
   ]
  },
  {
   "cell_type": "code",
   "execution_count": 3,
   "id": "6d992c0c",
   "metadata": {},
   "outputs": [],
   "source": [
    "df = df.loc[:, df.nunique() != 1]"
   ]
  },
  {
   "cell_type": "code",
   "execution_count": 4,
   "id": "799594d1",
   "metadata": {
    "scrolled": true
   },
   "outputs": [
    {
     "name": "stdout",
     "output_type": "stream",
     "text": [
      "Number of columns: 296\n"
     ]
    }
   ],
   "source": [
    "print(\"Number of columns:\", df.shape[1])"
   ]
  },
  {
   "cell_type": "code",
   "execution_count": 5,
   "id": "4ce58533",
   "metadata": {},
   "outputs": [
    {
     "name": "stdout",
     "output_type": "stream",
     "text": [
      "Latitude     0\n",
      "Longitude    0\n",
      "gender       0\n",
      "age_resp     0\n",
      "treat        0\n",
      "            ..\n",
      "M2022_08     0\n",
      "M2022_09     0\n",
      "M2022_10     0\n",
      "M2022_11     0\n",
      "M2022_12     0\n",
      "Length: 296, dtype: int64\n"
     ]
    }
   ],
   "source": [
    "# Check for missing values (You should have no missing values)\n",
    "print(df.isnull().sum())"
   ]
  },
  {
   "cell_type": "code",
   "execution_count": 7,
   "id": "640134d6",
   "metadata": {},
   "outputs": [],
   "source": [
    "#If you do then use this line to get rid of them\n",
    "#df = df.fillna(0)"
   ]
  },
  {
   "cell_type": "markdown",
   "id": "2b61e761",
   "metadata": {},
   "source": [
    "# Cambodia Models with data merged with CHIRPS"
   ]
  },
  {
   "cell_type": "markdown",
   "id": "bb3325e7",
   "metadata": {},
   "source": [
    "### OLS Regression"
   ]
  },
  {
   "cell_type": "markdown",
   "id": "994baa80",
   "metadata": {},
   "source": [
    "Ordinary least squares (OLS) regression is a process in which a straight line is used to estimate the relationship between two interval/ratio level variables. The \"best-fitting line\" is the line that minimizes the sum of the squared errors \n",
    "\n",
    "For estimation, the following assumptions are imposed:\n",
    "(1) Linear relationship: We assume that the relationship between the dependent variable and independent variables is linear; \n",
    "(2) Independence: Observations are independent of each other;\n",
    "(3) Homoskedasticity: The error term has constant variance across all levels of the independent variables; (4) Normality: The error term is normally distributed. "
   ]
  },
  {
   "cell_type": "code",
   "execution_count": 6,
   "id": "57cbb77a",
   "metadata": {},
   "outputs": [],
   "source": [
    "y = df[['F9']]\n",
    "X = df.drop(columns=[\"F9\"])"
   ]
  },
  {
   "cell_type": "code",
   "execution_count": 7,
   "id": "5f3f31c4",
   "metadata": {},
   "outputs": [
    {
     "name": "stdout",
     "output_type": "stream",
     "text": [
      "Cross-validated OLS R-squared scores: [-3.24689307e-01 -3.27177941e-01 -2.85491295e+00  1.33092200e-01\n",
      " -4.02639239e-01 -1.43723243e+00 -8.81020943e-01 -3.25885318e-01\n",
      " -4.85228249e+02 -1.32826920e+00]\n",
      "Mean R-squared score: -49.2976983821712\n",
      "R-squared score on test set: -0.7975992795410183\n"
     ]
    }
   ],
   "source": [
    "# Create training and test sets with 0.5 test size\n",
    "X_train, X_test, y_train, y_test = train_test_split(X, y, test_size=0.5)\n",
    "\n",
    "# Create linear regression object called ols\n",
    "ols = LinearRegression(fit_intercept=True)\n",
    "\n",
    "# Train the model using the training sets\n",
    "ols.fit(X_train, y_train)\n",
    "\n",
    "# Perform cross-validation and calculate R-squared scores\n",
    "ols_scores = cross_val_score(ols, X_train, y_train, cv=10, scoring='r2')\n",
    "mean_r2 = np.mean(ols_scores)\n",
    "print(\"Cross-validated OLS R-squared scores:\", ols_scores)\n",
    "print(\"Mean R-squared score:\", mean_r2)\n",
    "\n",
    "# Make predictions on test set\n",
    "y_predict = ols.predict(X_test)\n",
    "\n",
    "# Calculate R-squared score on test set\n",
    "r2 = r2_score(y_test, y_predict)\n",
    "print(\"R-squared score on test set:\", r2)"
   ]
  },
  {
   "cell_type": "code",
   "execution_count": 8,
   "id": "d9f57c47",
   "metadata": {},
   "outputs": [
    {
     "name": "stdout",
     "output_type": "stream",
     "text": [
      "mse is:  0.3306127565104327 r2 is:  -0.7975992795410183\n"
     ]
    }
   ],
   "source": [
    "y_pred = ols.predict(X_test)\n",
    "# print(\"Mean Squared Error: {}\".format(mse))\n",
    "mse = mean_squared_error(y_test, y_pred)\n",
    "\n",
    "# Compute and print the R^2\n",
    "r2 = ols.score(X_test, y_test)\n",
    "print('mse is: ', mse, 'r2 is: ', r2)"
   ]
  },
  {
   "cell_type": "markdown",
   "id": "f257a3cb",
   "metadata": {},
   "source": [
    "### Ridge Regression"
   ]
  },
  {
   "cell_type": "markdown",
   "id": "4631fb5c",
   "metadata": {},
   "source": [
    "Ridge regression is a model tuning method that is used to analyse any data that suffers from multicollinearity. This method performs L2 regularization. When the issue of multicollinearity occurs, least-squares are unbiased, and variances are large, this results in predicted values being far away from the actual values."
   ]
  },
  {
   "cell_type": "code",
   "execution_count": 45,
   "id": "f2081c56",
   "metadata": {},
   "outputs": [
    {
     "name": "stdout",
     "output_type": "stream",
     "text": [
      "R-squared score on test set: -146.2061616654851\n",
      "MSE is:  27.704820796071257\n"
     ]
    }
   ],
   "source": [
    "#df = pd.read_csv(\"modified_data2.csv\")\n",
    "# Create arrays for features (Lighted) and target variable (Temp)\n",
    "yr = df[['F9']]\n",
    "Xr = df.drop(columns=[\"F9\"])\n",
    "\n",
    "# Add in 2nd-degree polynomial of the X variables\n",
    "Xr = pd.DataFrame(PolynomialFeatures(degree = 2).fit_transform(Xr))\n",
    "  \n",
    "# Create training and test sets\n",
    "X_train, X_test, y_train, y_test = train_test_split(Xr, yr, test_size = 0.3)\n",
    "\n",
    "# Create a ridge regressor object called ridge\n",
    "ridge = Ridge(normalize = True, alpha = 0.1)\n",
    "\n",
    "# Train the ridge model using the training sets (the polynomial factors are in the data)\n",
    "ridge.fit(X_train, y_train)\n",
    "\n",
    "y_pred = ridge.predict(Xr)\n",
    "r_squared = r2_score(yr, y_pred)\n",
    "print(\"R-squared score on test set:\", r_squared)\n",
    "ridge_mse = mean_squared_error(yr, y_pred)\n",
    "print('MSE is: ', ridge_mse)"
   ]
  },
  {
   "cell_type": "code",
   "execution_count": 10,
   "id": "65b93f6a",
   "metadata": {},
   "outputs": [
    {
     "name": "stdout",
     "output_type": "stream",
     "text": [
      "Cross-validated Polynomial Regression scores: [9.06405123e+02 1.32667271e-01 7.03221162e+03 1.27389023e+02\n",
      " 2.29227453e+02]\n"
     ]
    }
   ],
   "source": [
    "ridge_scores = cross_val_score(ridge, X_train, y_train, cv = 5, scoring = 'neg_mean_squared_error')\n",
    "print(\"Cross-validated Polynomial Regression scores:\", (-1)*ridge_scores)"
   ]
  },
  {
   "cell_type": "markdown",
   "id": "f9d50b51",
   "metadata": {},
   "source": [
    "### Neural Network"
   ]
  },
  {
   "cell_type": "markdown",
   "id": "04ba903a",
   "metadata": {},
   "source": [
    "A neural network is a method in artificial intelligence that teaches computers to process data in a way that is inspired by the human brain. Neural networks can deal with nonlinearities. So if your data will have some nonlinear dependencies, neural networks should perform better than regression."
   ]
  },
  {
   "cell_type": "code",
   "execution_count": 13,
   "id": "eb036ddf",
   "metadata": {
    "scrolled": true
   },
   "outputs": [
    {
     "name": "stdout",
     "output_type": "stream",
     "text": [
      "R-squared score on test set: 0.4517374517374517\n",
      "MSE on test set: 0.1056338028169014\n",
      "Accuracy: 0.8943661971830986\n",
      "Precision: 0.9326923076923077\n",
      "Recall: 0.9238095238095239\n",
      "F1 Score: 0.9282296650717704\n",
      "ROC AUC: 0.8673101673101675\n",
      "Confusion matrix:\n",
      " [[97  8]\n",
      " [ 7 30]]\n"
     ]
    }
   ],
   "source": [
    "# load the dataset\n",
    "data = df\n",
    "datav = df.drop(columns=[\"F9\"])\n",
    "\n",
    "# standardize the data\n",
    "scaler = StandardScaler()\n",
    "X = scaler.fit_transform(datav)\n",
    "\n",
    "# split the standardized dataset into training and testing sets\n",
    "X_train, X_test, y_train, y_test = train_test_split(X, data.F9, test_size=0.2, random_state=11)\n",
    "\n",
    "# create a neural network model with L2 regularization\n",
    "model = MLPClassifier(hidden_layer_sizes=(50,), alpha=0.1, solver='adam', random_state=11)\n",
    "\n",
    "# train the model on the training data\n",
    "model.fit(X_train, y_train)\n",
    "\n",
    "# make predictions on the testing data\n",
    "y_pred = model.predict(X_test)\n",
    "\n",
    "# calculate performance metrics\n",
    "accuracy = accuracy_score(y_test, y_pred)\n",
    "precision = precision_score(y_test, y_pred)\n",
    "recall = recall_score(y_test, y_pred)\n",
    "f1 = f1_score(y_test, y_pred)\n",
    "roc_auc = roc_auc_score(y_test, y_pred)\n",
    "cm = confusion_matrix(y_test, y_pred)\n",
    "\n",
    "# print the performance metrics\n",
    "nn_r2 = r2_score(y_test, y_pred)\n",
    "print(\"R-squared score on test set:\", nn_r2)\n",
    "\n",
    "nn_mse = mean_squared_error(y_test, y_pred)\n",
    "print(\"MSE on test set:\", nn_mse)\n",
    "\n",
    "print(\"Accuracy:\", accuracy)\n",
    "print(\"Precision:\", precision)\n",
    "print(\"Recall:\", recall)\n",
    "print(\"F1 Score:\", f1)\n",
    "print(\"ROC AUC:\", roc_auc)\n",
    "print('Confusion matrix:\\n', cm)"
   ]
  },
  {
   "cell_type": "markdown",
   "id": "5af956e7",
   "metadata": {},
   "source": [
    "### Random Forest"
   ]
  },
  {
   "cell_type": "markdown",
   "id": "e2303c00",
   "metadata": {},
   "source": [
    "A supervised learning algorithm that works on the concept of bagging. In bagging, a group of models is trained on different subsets of the dataset, and the final output is generated by collating the outputs of all the different models."
   ]
  },
  {
   "cell_type": "code",
   "execution_count": 14,
   "id": "e81894ae",
   "metadata": {},
   "outputs": [],
   "source": [
    "yf = df[['F9']]\n",
    "Xf = df.drop(columns=[\"F9\"])\n",
    "X_train, X_test, y_train, y_test = train_test_split(Xf, df.F9, test_size=0.2, random_state=42)"
   ]
  },
  {
   "cell_type": "code",
   "execution_count": 15,
   "id": "975b20f8",
   "metadata": {},
   "outputs": [
    {
     "data": {
      "text/plain": [
       "RandomForestClassifier(random_state=11)"
      ]
     },
     "execution_count": 15,
     "metadata": {},
     "output_type": "execute_result"
    }
   ],
   "source": [
    "rf_model = RandomForestClassifier(random_state=11)\n",
    "rf_model.fit(X_train, y_train)"
   ]
  },
  {
   "cell_type": "code",
   "execution_count": 16,
   "id": "ee04b515",
   "metadata": {},
   "outputs": [],
   "source": [
    "y_pred = rf_model.predict(X_test)\n",
    "r2 = r2_score(y_test, y_pred)"
   ]
  },
  {
   "cell_type": "code",
   "execution_count": 17,
   "id": "14a4365b",
   "metadata": {},
   "outputs": [
    {
     "name": "stdout",
     "output_type": "stream",
     "text": [
      "Accuracy:  0.8802816901408451\n",
      "Precision:  0.8779569462227913\n",
      "R-squared:  0.3990540204132438\n",
      "Mean Squared Error (MSE):  0.11971830985915492\n"
     ]
    }
   ],
   "source": [
    "mse = mean_squared_error(y_test, y_pred)\n",
    "precision = precision_score(y_test, y_pred, average='weighted')\n",
    "accuracy = accuracy_score(y_test, y_pred)\n",
    "print(\"Accuracy: \", accuracy)\n",
    "print(\"Precision: \", precision)\n",
    "print(\"R-squared: \", r2)\n",
    "print(\"Mean Squared Error (MSE): \", mse)"
   ]
  },
  {
   "cell_type": "code",
   "execution_count": 18,
   "id": "5bbcdd07",
   "metadata": {},
   "outputs": [],
   "source": [
    "feature_names = Xf.columns.tolist() "
   ]
  },
  {
   "cell_type": "code",
   "execution_count": 19,
   "id": "0287da77",
   "metadata": {},
   "outputs": [
    {
     "data": {
      "image/png": "[encoded data removed]",
      "text/plain": [
       "<Figure size 720x576 with 1 Axes>"
      ]
     },
     "metadata": {
      "needs_background": "light"
     },
     "output_type": "display_data"
    }
   ],
   "source": [
    "# Get importance scores\n",
    "importances = rf_model.feature_importances_\n",
    "\n",
    "# Create a pandas DataFrame for easier data manipulation\n",
    "importance_df = pd.DataFrame({\n",
    "    'Feature': feature_names,\n",
    "    'Importance': importances\n",
    "})\n",
    "\n",
    "# Sort the DataFrame by importance scores and select the top 30\n",
    "importance_df = importance_df.sort_values(by='Importance', ascending=False).head(30)\n",
    "\n",
    "# Plot the importances\n",
    "plt.figure(figsize=(10, 8))\n",
    "plt.barh(importance_df['Feature'], importance_df['Importance'], color='skyblue')\n",
    "plt.xlabel('Importance')\n",
    "plt.title('Top 30 Feature Importance')\n",
    "plt.gca().invert_yaxis()  # Invert the y-axis so the feature with the highest importance is at the top\n",
    "plt.show()"
   ]
  },
  {
   "cell_type": "markdown",
   "id": "6f13880a",
   "metadata": {},
   "source": [
    "### SVM (Support Vector Machine)"
   ]
  },
  {
   "cell_type": "markdown",
   "id": "df5965c1",
   "metadata": {},
   "source": [
    "Machine learning algorithm used for regression analysis. It is different from traditional linear regression methods as it finds a hyperplane that best fits the data points in a continuous space, instead of fitting a line to the data points."
   ]
  },
  {
   "cell_type": "code",
   "execution_count": 20,
   "id": "12044a49",
   "metadata": {},
   "outputs": [
    {
     "name": "stdout",
     "output_type": "stream",
     "text": [
      "R-squared score on test set: 0.5613899613899613\n",
      "MSE on test set: 0.08450704225352113\n",
      "Accuracy: 0.9154929577464789\n",
      "Precision: 0.9345794392523364\n",
      "Recall: 0.9523809523809523\n",
      "F1 score: 0.9433962264150944\n",
      "ROC AUC: 0.9528957528957529\n",
      "Confusion matrix:\n",
      " [[100   5]\n",
      " [  7  30]]\n"
     ]
    }
   ],
   "source": [
    "y = data[['F9']]\n",
    "X = data.drop(columns=[\"F9\"])\n",
    "\n",
    "# Split data into train and test sets\n",
    "X_train, X_test, y_train, y_test = train_test_split(X, y, test_size=0.2, random_state=11)\n",
    "\n",
    "# Standardize the data\n",
    "scaler = StandardScaler()\n",
    "X_train = scaler.fit_transform(X_train)\n",
    "X_test = scaler.transform(X_test)\n",
    "\n",
    "# Define hyperparameters to tune\n",
    "hyperparams = {'C': [0.01, 0.1, 1, 10, 100], 'kernel': ['linear', 'rbf'], 'gamma': ['scale', 'auto']}\n",
    "\n",
    "# Perform hyperparameter tuning using k-fold cross-validation\n",
    "grid_search = GridSearchCV(SVC(probability=True), hyperparams, cv=5, scoring='roc_auc')\n",
    "grid_search.fit(X_train, y_train)\n",
    "best_svc = grid_search.best_estimator_\n",
    "\n",
    "# Make predictions on test set\n",
    "y_pred = best_svc.predict(X_test)\n",
    "y_prob = best_svc.predict_proba(X_test)[:, 1]\n",
    "\n",
    "# Calculate performance metrics\n",
    "acc = accuracy_score(y_test, y_pred)\n",
    "prec = precision_score(y_test, y_pred)\n",
    "rec = recall_score(y_test, y_pred)\n",
    "f1 = f1_score(y_test, y_pred)\n",
    "auc = roc_auc_score(y_test, y_prob)\n",
    "cm = confusion_matrix(y_test, y_pred)\n",
    "\n",
    "\n",
    "svm_r2 = r2_score(y_test, y_pred)\n",
    "print(\"R-squared score on test set:\", svm_r2)\n",
    "\n",
    "svm_mse = mean_squared_error(y_test, y_pred)\n",
    "print(\"MSE on test set:\", svm_mse)\n",
    "\n",
    "# Print performance metrics\n",
    "print('Accuracy:', acc)\n",
    "print('Precision:', prec)\n",
    "print('Recall:', rec)\n",
    "print('F1 score:', f1)\n",
    "print('ROC AUC:', auc)\n",
    "print('Confusion matrix:\\n', cm)"
   ]
  },
  {
   "cell_type": "markdown",
   "id": "8b128337",
   "metadata": {},
   "source": [
    "# Ethiopia data set\n",
    "Not able to use CHIRPS as it is not available"
   ]
  },
  {
   "cell_type": "code",
   "execution_count": 46,
   "id": "5307bd2c",
   "metadata": {},
   "outputs": [],
   "source": [
    "df = pd.read_csv('everything_ethiopia.csv')"
   ]
  },
  {
   "cell_type": "markdown",
   "id": "79170a2d",
   "metadata": {},
   "source": [
    "Learn variable: \"Are you (or another household member) in need of training on improved agricultural practices in malt barley production?\"\n",
    "1 if yes 2 if no"
   ]
  },
  {
   "cell_type": "code",
   "execution_count": 47,
   "id": "fdbaedd0",
   "metadata": {},
   "outputs": [],
   "source": [
    "df = df.loc[:, df.nunique() != 1]"
   ]
  },
  {
   "cell_type": "code",
   "execution_count": 48,
   "id": "765e8f7a",
   "metadata": {},
   "outputs": [
    {
     "name": "stdout",
     "output_type": "stream",
     "text": [
      "Number of columns: 167\n"
     ]
    }
   ],
   "source": [
    "print(\"Number of columns:\", df.shape[1])"
   ]
  },
  {
   "cell_type": "code",
   "execution_count": 49,
   "id": "ad2483a5",
   "metadata": {},
   "outputs": [],
   "source": [
    "df = df.apply(pd.to_numeric, errors='coerce')"
   ]
  },
  {
   "cell_type": "code",
   "execution_count": 50,
   "id": "6c6a6a59",
   "metadata": {},
   "outputs": [],
   "source": [
    "df = df.drop(df.columns[0], axis=1)"
   ]
  },
  {
   "cell_type": "code",
   "execution_count": 51,
   "id": "931aab2e",
   "metadata": {},
   "outputs": [],
   "source": [
    "df = df.fillna(0)"
   ]
  },
  {
   "cell_type": "code",
   "execution_count": 52,
   "id": "e76763ec",
   "metadata": {
    "scrolled": false
   },
   "outputs": [
    {
     "data": {
      "text/html": [
       "<div>\n",
       "<style scoped>\n",
       "    .dataframe tbody tr th:only-of-type {\n",
       "        vertical-align: middle;\n",
       "    }\n",
       "\n",
       "    .dataframe tbody tr th {\n",
       "        vertical-align: top;\n",
       "    }\n",
       "\n",
       "    .dataframe thead th {\n",
       "        text-align: right;\n",
       "    }\n",
       "</style>\n",
       "<table border=\"1\" class=\"dataframe\">\n",
       "  <thead>\n",
       "    <tr style=\"text-align: right;\">\n",
       "      <th></th>\n",
       "      <th>treat</th>\n",
       "      <th>GPS_Latitude</th>\n",
       "      <th>GPS_Longitude</th>\n",
       "      <th>GPS_Accuracy</th>\n",
       "      <th>GPS_Altitude</th>\n",
       "      <th>gender_resp</th>\n",
       "      <th>respondentishead</th>\n",
       "      <th>gender_head</th>\n",
       "      <th>age_head</th>\n",
       "      <th>attendedschool_head</th>\n",
       "      <th>...</th>\n",
       "      <th>h7_2</th>\n",
       "      <th>h7_3</th>\n",
       "      <th>h7_4</th>\n",
       "      <th>h7_5</th>\n",
       "      <th>h7_6</th>\n",
       "      <th>h7_7</th>\n",
       "      <th>h7_8</th>\n",
       "      <th>h7_9</th>\n",
       "      <th>learn</th>\n",
       "      <th>ndvi</th>\n",
       "    </tr>\n",
       "  </thead>\n",
       "  <tbody>\n",
       "    <tr>\n",
       "      <th>0</th>\n",
       "      <td>1</td>\n",
       "      <td>7.334400</td>\n",
       "      <td>39.208542</td>\n",
       "      <td>4.8</td>\n",
       "      <td>3039.600098</td>\n",
       "      <td>1</td>\n",
       "      <td>1</td>\n",
       "      <td>0</td>\n",
       "      <td>35</td>\n",
       "      <td>1</td>\n",
       "      <td>...</td>\n",
       "      <td>0</td>\n",
       "      <td>0</td>\n",
       "      <td>0</td>\n",
       "      <td>0</td>\n",
       "      <td>0</td>\n",
       "      <td>0</td>\n",
       "      <td>0</td>\n",
       "      <td>0</td>\n",
       "      <td>0</td>\n",
       "      <td>0.258366</td>\n",
       "    </tr>\n",
       "    <tr>\n",
       "      <th>1</th>\n",
       "      <td>1</td>\n",
       "      <td>7.334400</td>\n",
       "      <td>39.208542</td>\n",
       "      <td>4.8</td>\n",
       "      <td>3039.600098</td>\n",
       "      <td>1</td>\n",
       "      <td>1</td>\n",
       "      <td>0</td>\n",
       "      <td>35</td>\n",
       "      <td>1</td>\n",
       "      <td>...</td>\n",
       "      <td>0</td>\n",
       "      <td>0</td>\n",
       "      <td>0</td>\n",
       "      <td>0</td>\n",
       "      <td>0</td>\n",
       "      <td>0</td>\n",
       "      <td>0</td>\n",
       "      <td>0</td>\n",
       "      <td>0</td>\n",
       "      <td>0.258366</td>\n",
       "    </tr>\n",
       "    <tr>\n",
       "      <th>2</th>\n",
       "      <td>1</td>\n",
       "      <td>7.334400</td>\n",
       "      <td>39.208542</td>\n",
       "      <td>4.8</td>\n",
       "      <td>3039.600098</td>\n",
       "      <td>1</td>\n",
       "      <td>1</td>\n",
       "      <td>0</td>\n",
       "      <td>35</td>\n",
       "      <td>1</td>\n",
       "      <td>...</td>\n",
       "      <td>0</td>\n",
       "      <td>0</td>\n",
       "      <td>0</td>\n",
       "      <td>0</td>\n",
       "      <td>0</td>\n",
       "      <td>0</td>\n",
       "      <td>0</td>\n",
       "      <td>0</td>\n",
       "      <td>0</td>\n",
       "      <td>0.258366</td>\n",
       "    </tr>\n",
       "    <tr>\n",
       "      <th>3</th>\n",
       "      <td>1</td>\n",
       "      <td>7.334400</td>\n",
       "      <td>39.208542</td>\n",
       "      <td>4.8</td>\n",
       "      <td>3039.600098</td>\n",
       "      <td>1</td>\n",
       "      <td>1</td>\n",
       "      <td>0</td>\n",
       "      <td>35</td>\n",
       "      <td>1</td>\n",
       "      <td>...</td>\n",
       "      <td>0</td>\n",
       "      <td>0</td>\n",
       "      <td>0</td>\n",
       "      <td>0</td>\n",
       "      <td>0</td>\n",
       "      <td>0</td>\n",
       "      <td>0</td>\n",
       "      <td>0</td>\n",
       "      <td>0</td>\n",
       "      <td>0.258366</td>\n",
       "    </tr>\n",
       "    <tr>\n",
       "      <th>4</th>\n",
       "      <td>1</td>\n",
       "      <td>7.249927</td>\n",
       "      <td>38.993832</td>\n",
       "      <td>5.0</td>\n",
       "      <td>2877.600098</td>\n",
       "      <td>1</td>\n",
       "      <td>1</td>\n",
       "      <td>0</td>\n",
       "      <td>35</td>\n",
       "      <td>1</td>\n",
       "      <td>...</td>\n",
       "      <td>1</td>\n",
       "      <td>0</td>\n",
       "      <td>1</td>\n",
       "      <td>0</td>\n",
       "      <td>0</td>\n",
       "      <td>0</td>\n",
       "      <td>0</td>\n",
       "      <td>0</td>\n",
       "      <td>2</td>\n",
       "      <td>0.291843</td>\n",
       "    </tr>\n",
       "  </tbody>\n",
       "</table>\n",
       "<p>5 rows × 166 columns</p>\n",
       "</div>"
      ],
      "text/plain": [
       "   treat  GPS_Latitude  GPS_Longitude  GPS_Accuracy  GPS_Altitude  \\\n",
       "0      1      7.334400      39.208542           4.8   3039.600098   \n",
       "1      1      7.334400      39.208542           4.8   3039.600098   \n",
       "2      1      7.334400      39.208542           4.8   3039.600098   \n",
       "3      1      7.334400      39.208542           4.8   3039.600098   \n",
       "4      1      7.249927      38.993832           5.0   2877.600098   \n",
       "\n",
       "   gender_resp  respondentishead  gender_head  age_head  attendedschool_head  \\\n",
       "0            1                 1            0        35                    1   \n",
       "1            1                 1            0        35                    1   \n",
       "2            1                 1            0        35                    1   \n",
       "3            1                 1            0        35                    1   \n",
       "4            1                 1            0        35                    1   \n",
       "\n",
       "   ...  h7_2  h7_3  h7_4  h7_5  h7_6  h7_7  h7_8  h7_9  learn      ndvi  \n",
       "0  ...     0     0     0     0     0     0     0     0      0  0.258366  \n",
       "1  ...     0     0     0     0     0     0     0     0      0  0.258366  \n",
       "2  ...     0     0     0     0     0     0     0     0      0  0.258366  \n",
       "3  ...     0     0     0     0     0     0     0     0      0  0.258366  \n",
       "4  ...     1     0     1     0     0     0     0     0      2  0.291843  \n",
       "\n",
       "[5 rows x 166 columns]"
      ]
     },
     "execution_count": 52,
     "metadata": {},
     "output_type": "execute_result"
    }
   ],
   "source": [
    "df.head()"
   ]
  },
  {
   "cell_type": "code",
   "execution_count": 53,
   "id": "846591c7",
   "metadata": {},
   "outputs": [],
   "source": [
    "X = df.drop(columns=[\"learn\"])\n",
    "y = df[['learn']]"
   ]
  },
  {
   "cell_type": "markdown",
   "id": "dd1b6105",
   "metadata": {},
   "source": [
    "### OLS Regression"
   ]
  },
  {
   "cell_type": "code",
   "execution_count": 54,
   "id": "88249835",
   "metadata": {},
   "outputs": [
    {
     "name": "stdout",
     "output_type": "stream",
     "text": [
      "Cross-validated OLS R-squared scores: [ 0.83246969  0.63232444  0.80810806  0.52653434  0.70823645  0.73138659\n",
      "  0.73227509 -1.37690678  0.52076442  0.71071753]\n",
      "Mean R-squared score: 0.48259098252406735\n",
      "R-squared score on test set: 0.39943705428298826\n"
     ]
    }
   ],
   "source": [
    "# Create training and test sets with 0.5 test size\n",
    "X_train, X_test, y_train, y_test = train_test_split(X, y, test_size=0.5)\n",
    "\n",
    "# Create linear regression object called ols\n",
    "ols = LinearRegression(fit_intercept=True)\n",
    "\n",
    "# Train the model using the training sets\n",
    "ols.fit(X_train, y_train)\n",
    "\n",
    "# Perform cross-validation and calculate R-squared scores\n",
    "ols_scores = cross_val_score(ols, X_train, y_train, cv=10, scoring='r2')\n",
    "mean_r2 = np.mean(ols_scores)\n",
    "print(\"Cross-validated OLS R-squared scores:\", ols_scores)\n",
    "print(\"Mean R-squared score:\", mean_r2)\n",
    "\n",
    "# Make predictions on test set\n",
    "y_predict = ols.predict(X_test)\n",
    "\n",
    "# Calculate R-squared score on test set\n",
    "r2 = r2_score(y_test, y_predict)\n",
    "print(\"R-squared score on test set:\", r2)"
   ]
  },
  {
   "cell_type": "code",
   "execution_count": 55,
   "id": "bfdcc0f6",
   "metadata": {},
   "outputs": [
    {
     "name": "stdout",
     "output_type": "stream",
     "text": [
      "mse is:  0.295985779813303 r2 is:  0.39943705428298826\n"
     ]
    }
   ],
   "source": [
    "y_pred = ols.predict(X_test)\n",
    "# print(\"Mean Squared Error: {}\".format(mse))\n",
    "mse = mean_squared_error(y_test, y_pred)\n",
    "\n",
    "# Compute and print the R^2\n",
    "r2 = ols.score(X_test, y_test)\n",
    "print('mse is: ', mse, 'r2 is: ', r2)"
   ]
  },
  {
   "cell_type": "markdown",
   "id": "bd0cb2c3",
   "metadata": {},
   "source": [
    "### Ridge Regression"
   ]
  },
  {
   "cell_type": "markdown",
   "id": "eec35a32",
   "metadata": {},
   "source": [
    "####  Get the 5 fold CV scores"
   ]
  },
  {
   "cell_type": "code",
   "execution_count": 54,
   "id": "1cf47be9",
   "metadata": {},
   "outputs": [
    {
     "name": "stdout",
     "output_type": "stream",
     "text": [
      "Cross-validated Polynomial Regression scores: [0.38819174 0.12664777 0.13359091 0.18552922 0.15714885]\n"
     ]
    }
   ],
   "source": [
    "ridge_scores = cross_val_score(ridge, X_train, y_train, cv = 5, scoring = 'neg_mean_squared_error')\n",
    "print(\"Cross-validated Polynomial Regression scores:\", (-1)*ridge_scores)"
   ]
  },
  {
   "cell_type": "code",
   "execution_count": 55,
   "id": "3e5be277",
   "metadata": {},
   "outputs": [
    {
     "name": "stdout",
     "output_type": "stream",
     "text": [
      "R-squared score on test set: 0.7515685489815215\n",
      "MSE is:  0.05032948375910233\n"
     ]
    }
   ],
   "source": [
    "yr = df[['learn']]\n",
    "Xr = df.drop(columns=[\"learn\", \"apply\"])\n",
    "\n",
    "# Add in 2-degree polynomial of the X variables\n",
    "Xr = pd.DataFrame(PolynomialFeatures(degree = 2).fit_transform(Xr))\n",
    "  \n",
    "# Create training and test sets\n",
    "X_train, X_test, y_train, y_test = train_test_split(Xr, yr, test_size = 0.3)\n",
    "\n",
    "# Create a ridge regressor object called ridge\n",
    "ridge = Ridge(normalize = True, alpha = 0.1)\n",
    "\n",
    "# Train the ridge model using the training sets (the polynomial factors are in the data)\n",
    "ridge.fit(X_train, y_train)\n",
    "\n",
    "# Performance metrics\n",
    "y_pred = ridge.predict(Xr)\n",
    "ridge_r2 = r2_score(yr, y_pred)\n",
    "print(\"R-squared score on test set:\", ridge_r2)\n",
    "ridge_mse = mean_squared_error(yr, y_pred)\n",
    "print('MSE is: ', ridge_mse)"
   ]
  },
  {
   "cell_type": "markdown",
   "id": "2901c4aa",
   "metadata": {},
   "source": [
    "### Neural Networks"
   ]
  },
  {
   "cell_type": "code",
   "execution_count": 56,
   "id": "15dd456b",
   "metadata": {},
   "outputs": [
    {
     "name": "stdout",
     "output_type": "stream",
     "text": [
      "R-squared score on test set: 0.6348696404300013\n",
      "MSE on test set: 0.07614213197969544\n",
      "Accuracy: 0.9314720812182741\n",
      "Precision: 0.9286395809095459\n",
      "Recall: 0.9314720812182741\n",
      "F1 Score: 0.9299761021111282\n",
      "Confusion matrix:\n",
      " [[  0   0   1]\n",
      " [  0 269  11]\n",
      " [  0  15  98]]\n"
     ]
    }
   ],
   "source": [
    "data = df.drop(columns=[\"apply\"])\n",
    "datadv = df.drop(columns=[\"apply\",\"learn\"])\n",
    "\n",
    "# standardize the data\n",
    "scaler = StandardScaler()\n",
    "X = scaler.fit_transform(datadv)\n",
    "\n",
    "# split the standardized dataset into training and testing sets\n",
    "X_train, X_test, y_train, y_test = train_test_split(X, data.learn, test_size=0.3, random_state=11)\n",
    "\n",
    "# create a neural network model with L2 regularization\n",
    "model = MLPClassifier(hidden_layer_sizes=(50,), alpha=0.1, solver='adam', random_state=11)\n",
    "\n",
    "# train the model on the training data\n",
    "model.fit(X_train, y_train)\n",
    "\n",
    "# make predictions on the testing data\n",
    "y_pred = model.predict(X_test)\n",
    "\n",
    "# calculate performance metrics\n",
    "nn_accuracy = accuracy_score(y_test, y_pred)\n",
    "nn_precision = precision_score(y_test, y_pred, average = \"weighted\")\n",
    "recall = recall_score(y_test, y_pred, average = \"weighted\")\n",
    "f1 = f1_score(y_test, y_pred, average = \"weighted\")\n",
    "cm = confusion_matrix(y_test, y_pred)\n",
    "\n",
    "nn_r2 = r2_score(y_test, y_pred)\n",
    "print(\"R-squared score on test set:\", nn_r2)\n",
    "\n",
    "\n",
    "nn_mse = mean_squared_error(y_test, y_pred)\n",
    "print(\"MSE on test set:\", nn_mse)\n",
    "\n",
    "# print the performance metrics\n",
    "print(\"Accuracy:\", nn_accuracy)\n",
    "print(\"Precision:\", nn_precision)\n",
    "print(\"Recall:\", recall)\n",
    "print(\"F1 Score:\", f1)\n",
    "print('Confusion matrix:\\n', cm)"
   ]
  },
  {
   "cell_type": "markdown",
   "id": "c5b9fb88",
   "metadata": {},
   "source": [
    "### Random Forest"
   ]
  },
  {
   "cell_type": "code",
   "execution_count": 57,
   "id": "589a8139",
   "metadata": {},
   "outputs": [],
   "source": [
    "yf = df[['learn']]\n",
    "Xf = df.drop(columns=[\"learn\", \"apply\"])\n",
    "X_train, X_test, y_train, y_test = train_test_split(Xf, yf, test_size = 0.3)"
   ]
  },
  {
   "cell_type": "code",
   "execution_count": 58,
   "id": "a43ff860",
   "metadata": {},
   "outputs": [],
   "source": [
    "feature_names = Xf.columns.tolist() "
   ]
  },
  {
   "cell_type": "code",
   "execution_count": 59,
   "id": "40ca1fc7",
   "metadata": {},
   "outputs": [],
   "source": [
    "y_pred = rf_model.predict(X_test)\n",
    "r2 = r2_score(y_test, y_pred)"
   ]
  },
  {
   "cell_type": "code",
   "execution_count": 60,
   "id": "3eeee868",
   "metadata": {
    "scrolled": true
   },
   "outputs": [
    {
     "data": {
      "image/png": "[encoded data removed]",
      "text/plain": [
       "<Figure size 720x576 with 1 Axes>"
      ]
     },
     "metadata": {
      "needs_background": "light"
     },
     "output_type": "display_data"
    }
   ],
   "source": [
    "# Fit the model\n",
    "rf_model = RandomForestClassifier(random_state=11)\n",
    "rf_model.fit(X_train, y_train)\n",
    "\n",
    "# Get importance scores\n",
    "importances = rf_model.feature_importances_\n",
    "\n",
    "# Create a pandas DataFrame for easier data manipulation\n",
    "importance_df = pd.DataFrame({\n",
    "    'Feature': feature_names,\n",
    "    'Importance': importances\n",
    "})\n",
    "\n",
    "# Sort the DataFrame by importance scores and select the top 30\n",
    "importance_df = importance_df.sort_values(by='Importance', ascending=False).head(30)\n",
    "\n",
    "# Plot the importances\n",
    "plt.figure(figsize=(10, 8))\n",
    "plt.barh(importance_df['Feature'], importance_df['Importance'], color='skyblue')\n",
    "plt.xlabel('Importance')\n",
    "plt.title('Top 30 Feature Importance')\n",
    "plt.gca().invert_yaxis()  # Invert the y-axis so the feature with the highest importance is at the top\n",
    "plt.show()\n"
   ]
  },
  {
   "cell_type": "code",
   "execution_count": 61,
   "id": "00963e12",
   "metadata": {},
   "outputs": [
    {
     "name": "stdout",
     "output_type": "stream",
     "text": [
      "Accuracy:  0.9949238578680203\n",
      "Precision:  0.9949582723909489\n",
      "R-squared:  0.9733720812354273\n",
      "Mean Squared Error (MSE):  0.005076142131979695\n"
     ]
    }
   ],
   "source": [
    "mse = mean_squared_error(y_test, y_pred)\n",
    "precision = precision_score(y_test, y_pred, average='weighted')\n",
    "accuracy = accuracy_score(y_test, y_pred)\n",
    "print(\"Accuracy: \", accuracy)\n",
    "print(\"Precision: \", precision)\n",
    "print(\"R-squared: \", r2)\n",
    "print(\"Mean Squared Error (MSE): \", mse)"
   ]
  },
  {
   "cell_type": "markdown",
   "id": "7598b814",
   "metadata": {},
   "source": [
    "### SVM"
   ]
  },
  {
   "cell_type": "code",
   "execution_count": 62,
   "id": "e1ef5092",
   "metadata": {
    "scrolled": true
   },
   "outputs": [
    {
     "name": "stdout",
     "output_type": "stream",
     "text": [
      "R-squared score on test set: 0.3603097289871362\n",
      "MSE on test set: 0.1319796954314721\n",
      "Accuracy: 0.868020304568528\n",
      "Precision: 0.8648623359610751\n",
      "Recall: 0.868020304568528\n",
      "F1 score: 0.8609110672562449\n",
      "Confusion matrix:\n",
      " [[  0   1   0]\n",
      " [  0 270  12]\n",
      " [  0  39  72]]\n"
     ]
    }
   ],
   "source": [
    "y = data[['learn']]\n",
    "X = data.drop(columns=[\"learn\"])\n",
    "\n",
    "# Split data into train and test sets\n",
    "X_train, X_test, y_train, y_test = train_test_split(X, y, test_size=0.3, random_state=100)\n",
    "\n",
    "# Standardize the data\n",
    "scaler = StandardScaler()\n",
    "X_train = scaler.fit_transform(X_train)\n",
    "X_test = scaler.transform(X_test)\n",
    "\n",
    "# Define hyperparameters to tune\n",
    "hyperparams = {'C': [0.01, 0.1, 1, 10, 100], 'kernel': ['linear', 'rbf'], 'gamma': ['scale', 'auto']}\n",
    "\n",
    "# Perform hyperparameter tuning using k-fold cross-validation\n",
    "grid_search = GridSearchCV(SVC(probability=True), hyperparams, cv=5, scoring='roc_auc')\n",
    "grid_search.fit(X_train, y_train)\n",
    "best_svc = grid_search.best_estimator_\n",
    "\n",
    "# Make predictions on test set\n",
    "y_pred = best_svc.predict(X_test)\n",
    "y_prob = best_svc.predict_proba(X_test)[:, 1]\n",
    "\n",
    "# Calculate performance metrics\n",
    "svm_acc = accuracy_score(y_test, y_pred)\n",
    "svm_prec = precision_score(y_test, y_pred, average = \"weighted\")\n",
    "rec = recall_score(y_test, y_pred, average = \"weighted\")\n",
    "f1 = f1_score(y_test, y_pred, average = \"weighted\")\n",
    "svm_cm = confusion_matrix(y_test, y_pred)\n",
    "\n",
    "\n",
    "svm_r2 = r2_score(y_test, y_pred)\n",
    "print(\"R-squared score on test set:\", svm_r2)\n",
    "\n",
    "svm_mse = mean_squared_error(y_test, y_pred)\n",
    "print(\"MSE on test set:\", svm_mse)\n",
    "\n",
    "# Print performance metrics\n",
    "print('Accuracy:', svm_acc)\n",
    "print('Precision:', svm_prec)\n",
    "print('Recall:', rec)\n",
    "print('F1 score:', f1)\n",
    "print('Confusion matrix:\\n', svm_cm)"
   ]
  },
  {
   "cell_type": "markdown",
   "id": "66201536",
   "metadata": {},
   "source": [
    "# Merged Dataset with Cambodia MARS Data & Ethiopian Heineken Data"
   ]
  },
  {
   "cell_type": "markdown",
   "id": "07c001b9",
   "metadata": {},
   "source": [
    "We are able to test our model out of sample on a different dataset, which will serve as a robustness check and assess heterogeneity in prediction across different countries and crops."
   ]
  },
  {
   "cell_type": "code",
   "execution_count": 57,
   "id": "c7e4cba3",
   "metadata": {},
   "outputs": [],
   "source": [
    "df = pd.read_csv('merged_heineken_mars.csv')"
   ]
  },
  {
   "cell_type": "markdown",
   "id": "e977a967",
   "metadata": {},
   "source": [
    "Note: DATASET = 1 corresponds to MARS, DATASET = 0 corresponds to HEINEKEN"
   ]
  },
  {
   "cell_type": "code",
   "execution_count": 58,
   "id": "f058c753",
   "metadata": {},
   "outputs": [],
   "source": [
    "df = df.drop(columns=[\"Unnamed: 0\"])"
   ]
  },
  {
   "cell_type": "code",
   "execution_count": 59,
   "id": "a24d1a33",
   "metadata": {
    "scrolled": false
   },
   "outputs": [
    {
     "data": {
      "text/html": [
       "<div>\n",
       "<style scoped>\n",
       "    .dataframe tbody tr th:only-of-type {\n",
       "        vertical-align: middle;\n",
       "    }\n",
       "\n",
       "    .dataframe tbody tr th {\n",
       "        vertical-align: top;\n",
       "    }\n",
       "\n",
       "    .dataframe thead th {\n",
       "        text-align: right;\n",
       "    }\n",
       "</style>\n",
       "<table border=\"1\" class=\"dataframe\">\n",
       "  <thead>\n",
       "    <tr style=\"text-align: right;\">\n",
       "      <th></th>\n",
       "      <th>Latitude</th>\n",
       "      <th>Longitude</th>\n",
       "      <th>DATASET</th>\n",
       "      <th>treat</th>\n",
       "      <th>fies_didnoteat</th>\n",
       "      <th>fies_notenoughfood</th>\n",
       "      <th>fies_eathealthy</th>\n",
       "      <th>fies_fewkinds</th>\n",
       "      <th>fies_skipmeals</th>\n",
       "      <th>fies_ateless</th>\n",
       "      <th>...</th>\n",
       "      <th>challenge_priceseeds</th>\n",
       "      <th>challenge_getloan</th>\n",
       "      <th>challenge_affordloan</th>\n",
       "      <th>challenge_labor</th>\n",
       "      <th>challenge_costlabor</th>\n",
       "      <th>challenge_postharv</th>\n",
       "      <th>challenge_disease</th>\n",
       "      <th>challenge_pest</th>\n",
       "      <th>challenge_farmadvise</th>\n",
       "      <th>challenge_weather</th>\n",
       "    </tr>\n",
       "  </thead>\n",
       "  <tbody>\n",
       "    <tr>\n",
       "      <th>0</th>\n",
       "      <td>13.735540</td>\n",
       "      <td>103.244825</td>\n",
       "      <td>1</td>\n",
       "      <td>1</td>\n",
       "      <td>2</td>\n",
       "      <td>2</td>\n",
       "      <td>2</td>\n",
       "      <td>2</td>\n",
       "      <td>2</td>\n",
       "      <td>2</td>\n",
       "      <td>...</td>\n",
       "      <td>1</td>\n",
       "      <td>0</td>\n",
       "      <td>0</td>\n",
       "      <td>0</td>\n",
       "      <td>0</td>\n",
       "      <td>0</td>\n",
       "      <td>0</td>\n",
       "      <td>1</td>\n",
       "      <td>0</td>\n",
       "      <td>1</td>\n",
       "    </tr>\n",
       "    <tr>\n",
       "      <th>1</th>\n",
       "      <td>13.736765</td>\n",
       "      <td>103.240871</td>\n",
       "      <td>1</td>\n",
       "      <td>1</td>\n",
       "      <td>2</td>\n",
       "      <td>1</td>\n",
       "      <td>2</td>\n",
       "      <td>2</td>\n",
       "      <td>2</td>\n",
       "      <td>2</td>\n",
       "      <td>...</td>\n",
       "      <td>0</td>\n",
       "      <td>0</td>\n",
       "      <td>0</td>\n",
       "      <td>0</td>\n",
       "      <td>0</td>\n",
       "      <td>0</td>\n",
       "      <td>1</td>\n",
       "      <td>1</td>\n",
       "      <td>0</td>\n",
       "      <td>1</td>\n",
       "    </tr>\n",
       "    <tr>\n",
       "      <th>2</th>\n",
       "      <td>13.736525</td>\n",
       "      <td>103.242887</td>\n",
       "      <td>1</td>\n",
       "      <td>1</td>\n",
       "      <td>2</td>\n",
       "      <td>2</td>\n",
       "      <td>2</td>\n",
       "      <td>2</td>\n",
       "      <td>2</td>\n",
       "      <td>2</td>\n",
       "      <td>...</td>\n",
       "      <td>1</td>\n",
       "      <td>0</td>\n",
       "      <td>0</td>\n",
       "      <td>0</td>\n",
       "      <td>0</td>\n",
       "      <td>0</td>\n",
       "      <td>0</td>\n",
       "      <td>0</td>\n",
       "      <td>0</td>\n",
       "      <td>0</td>\n",
       "    </tr>\n",
       "    <tr>\n",
       "      <th>3</th>\n",
       "      <td>13.736398</td>\n",
       "      <td>103.242906</td>\n",
       "      <td>1</td>\n",
       "      <td>1</td>\n",
       "      <td>2</td>\n",
       "      <td>1</td>\n",
       "      <td>1</td>\n",
       "      <td>1</td>\n",
       "      <td>2</td>\n",
       "      <td>2</td>\n",
       "      <td>...</td>\n",
       "      <td>0</td>\n",
       "      <td>0</td>\n",
       "      <td>0</td>\n",
       "      <td>0</td>\n",
       "      <td>0</td>\n",
       "      <td>0</td>\n",
       "      <td>0</td>\n",
       "      <td>1</td>\n",
       "      <td>0</td>\n",
       "      <td>0</td>\n",
       "    </tr>\n",
       "    <tr>\n",
       "      <th>4</th>\n",
       "      <td>13.736014</td>\n",
       "      <td>103.243147</td>\n",
       "      <td>1</td>\n",
       "      <td>1</td>\n",
       "      <td>1</td>\n",
       "      <td>1</td>\n",
       "      <td>1</td>\n",
       "      <td>2</td>\n",
       "      <td>1</td>\n",
       "      <td>1</td>\n",
       "      <td>...</td>\n",
       "      <td>0</td>\n",
       "      <td>0</td>\n",
       "      <td>0</td>\n",
       "      <td>0</td>\n",
       "      <td>0</td>\n",
       "      <td>0</td>\n",
       "      <td>0</td>\n",
       "      <td>0</td>\n",
       "      <td>0</td>\n",
       "      <td>1</td>\n",
       "    </tr>\n",
       "  </tbody>\n",
       "</table>\n",
       "<p>5 rows × 45 columns</p>\n",
       "</div>"
      ],
      "text/plain": [
       "    Latitude   Longitude  DATASET  treat  fies_didnoteat  fies_notenoughfood  \\\n",
       "0  13.735540  103.244825        1      1               2                   2   \n",
       "1  13.736765  103.240871        1      1               2                   1   \n",
       "2  13.736525  103.242887        1      1               2                   2   \n",
       "3  13.736398  103.242906        1      1               2                   1   \n",
       "4  13.736014  103.243147        1      1               1                   1   \n",
       "\n",
       "   fies_eathealthy  fies_fewkinds  fies_skipmeals  fies_ateless  ...  \\\n",
       "0                2              2               2             2  ...   \n",
       "1                2              2               2             2  ...   \n",
       "2                2              2               2             2  ...   \n",
       "3                1              1               2             2  ...   \n",
       "4                1              2               1             1  ...   \n",
       "\n",
       "   challenge_priceseeds  challenge_getloan  challenge_affordloan  \\\n",
       "0                     1                  0                     0   \n",
       "1                     0                  0                     0   \n",
       "2                     1                  0                     0   \n",
       "3                     0                  0                     0   \n",
       "4                     0                  0                     0   \n",
       "\n",
       "   challenge_labor  challenge_costlabor  challenge_postharv  \\\n",
       "0                0                    0                   0   \n",
       "1                0                    0                   0   \n",
       "2                0                    0                   0   \n",
       "3                0                    0                   0   \n",
       "4                0                    0                   0   \n",
       "\n",
       "   challenge_disease  challenge_pest  challenge_farmadvise  challenge_weather  \n",
       "0                  0               1                     0                  1  \n",
       "1                  1               1                     0                  1  \n",
       "2                  0               0                     0                  0  \n",
       "3                  0               1                     0                  0  \n",
       "4                  0               0                     0                  1  \n",
       "\n",
       "[5 rows x 45 columns]"
      ]
     },
     "execution_count": 59,
     "metadata": {},
     "output_type": "execute_result"
    }
   ],
   "source": [
    "df.head()"
   ]
  },
  {
   "cell_type": "markdown",
   "id": "2387a6e2",
   "metadata": {},
   "source": [
    "##  MARS as training set and Heineken as test set"
   ]
  },
  {
   "cell_type": "markdown",
   "id": "69cee89e",
   "metadata": {},
   "source": [
    "### OLS: Out of Sample Metrics"
   ]
  },
  {
   "cell_type": "code",
   "execution_count": 66,
   "id": "71062453",
   "metadata": {},
   "outputs": [
    {
     "name": "stdout",
     "output_type": "stream",
     "text": [
      "Cross-validated OLS R-squared scores: [ 0.38034316  0.58994238  0.41209482  0.17292913  0.65739099  0.62361996\n",
      "  0.26759523  0.40320314  0.55962095 -0.20524384]\n",
      "Mean R-squared score: 0.386149592200031\n",
      "R-squared score on test set: -21.831864383945003\n",
      "MSE on test set: 4.625484989886868\n"
     ]
    }
   ],
   "source": [
    "y = df[['learn']]\n",
    "X = df.drop(columns=[\"learn\"])\n",
    "\n",
    "X_train = X[df['DATASET'] == 1]\n",
    "y_train = y[df['DATASET'] == 1]\n",
    "\n",
    "X_test = X[df['DATASET'] == 0]\n",
    "y_test = y[df['DATASET'] == 0]\n",
    "\n",
    "# Create linear regression object called ols\n",
    "ols = LinearRegression(fit_intercept=True)\n",
    "\n",
    "# Train the model using the training sets\n",
    "ols.fit(X_train, y_train)\n",
    "\n",
    "# Perform cross-validation and calculate R-squared scores\n",
    "ols_scores = cross_val_score(ols, X_train, y_train, cv=10, scoring='r2')\n",
    "mean_r2 = np.mean(ols_scores)\n",
    "print(\"Cross-validated OLS R-squared scores:\", ols_scores)\n",
    "print(\"Mean R-squared score:\", mean_r2)\n",
    "\n",
    "# Make predictions on test set\n",
    "y_predict = ols.predict(X_test)\n",
    "\n",
    "# Calculate R-squared score on test set\n",
    "r2 = r2_score(y_test, y_predict)\n",
    "print(\"R-squared score on test set:\", r2)\n",
    "\n",
    "# Calculate MSE on test set\n",
    "y_pred = ols.predict(X_test)\n",
    "# print(\"Mean Squared Error: {}\".format(mse))\n",
    "mse = mean_squared_error(y_test, y_pred)\n",
    "print(\"MSE on test set:\", mse)"
   ]
  },
  {
   "cell_type": "markdown",
   "id": "69212ee3",
   "metadata": {},
   "source": [
    "### Ridge"
   ]
  },
  {
   "cell_type": "code",
   "execution_count": 67,
   "id": "d5b23744",
   "metadata": {},
   "outputs": [
    {
     "name": "stdout",
     "output_type": "stream",
     "text": [
      "R-squared score on test set: -25.07542483488649\n",
      "MSE is:  6.556480726640376\n"
     ]
    }
   ],
   "source": [
    "# Add in 3-degree polynomial of the X variables\n",
    "Xr = pd.DataFrame(PolynomialFeatures(degree = 3).fit_transform(X))\n",
    "  \n",
    "# Create training and test sets\n",
    "X_train = Xr[df['DATASET'] == 1]\n",
    "y_train = y[df['DATASET'] == 1]\n",
    "\n",
    "X_test = Xr[df['DATASET'] == 0]\n",
    "y_test = y[df['DATASET'] == 0]\n",
    "\n",
    "# Create a ridge regressor object called ridge\n",
    "ridge = Ridge(normalize = True, alpha = 0.1)\n",
    "\n",
    "# Train the ridge model using the training sets (the polynomial factors are in the data)\n",
    "ridge.fit(X_train, y_train)\n",
    "\n",
    "# The coefficients\n",
    "ridge.coef_\n",
    "#ridge.r\n",
    "\n",
    "y_pred = ridge.predict(Xr)\n",
    "ridge_r2 = r2_score(y, y_pred)\n",
    "print(\"R-squared score on test set:\", ridge_r2)\n",
    "ridge_mse = mean_squared_error(y, y_pred)\n",
    "print('MSE is: ', ridge_mse)"
   ]
  },
  {
   "cell_type": "markdown",
   "id": "66c99cb4",
   "metadata": {},
   "source": [
    "### Neural Network"
   ]
  },
  {
   "cell_type": "code",
   "execution_count": 68,
   "id": "10fe7b8d",
   "metadata": {},
   "outputs": [
    {
     "name": "stdout",
     "output_type": "stream",
     "text": [
      "R-squared score on test set: -1.8087962457710356\n",
      "MSE on test set: 0.5690312738367659\n",
      "Accuracy: 0.43554538520213576\n",
      "Precision: 0.5797518943253958\n",
      "Recall: 0.43554538520213576\n",
      "F1 Score: 0.4570918938511998\n",
      "Confusion matrix:\n",
      " [[  0   0   2]\n",
      " [  0 361 585]\n",
      " [  0 153 210]]\n"
     ]
    }
   ],
   "source": [
    "# standardize the data\n",
    "scaler = StandardScaler()\n",
    "Xn = scaler.fit_transform(X)\n",
    "\n",
    "# split the standardized dataset into training and testing sets\n",
    "X_train = Xn[df['DATASET'] == 1]\n",
    "X_test = Xn[df['DATASET'] == 0]\n",
    "\n",
    "# create a neural network model with L2 regularization\n",
    "model = MLPClassifier(hidden_layer_sizes=(50,), alpha=0.1, solver='adam', random_state=120)\n",
    "\n",
    "# train the model on the training data\n",
    "model.fit(X_train, y_train)\n",
    "\n",
    "# make predictions on the testing data\n",
    "y_pred = model.predict(X_test)\n",
    "\n",
    "# calculate performance metrics\n",
    "nn_accuracy = accuracy_score(y_test, y_pred)\n",
    "nn_precision = precision_score(y_test, y_pred, average = \"weighted\")\n",
    "recall = recall_score(y_test, y_pred, average = \"weighted\")\n",
    "f1 = f1_score(y_test, y_pred, average = \"weighted\")\n",
    "cm = confusion_matrix(y_test, y_pred)\n",
    "\n",
    "nn_r2 = r2_score(y_test, y_pred)\n",
    "print(\"R-squared score on test set:\", nn_r2)\n",
    "\n",
    "nn_mse = mean_squared_error(y_test, y_pred)\n",
    "print(\"MSE on test set:\", nn_mse)\n",
    "\n",
    "# print the performance metrics\n",
    "print(\"Accuracy:\", nn_accuracy)\n",
    "print(\"Precision:\", nn_precision)\n",
    "print(\"Recall:\", recall)\n",
    "print(\"F1 Score:\", f1)\n",
    "print('Confusion matrix:\\n', cm)"
   ]
  },
  {
   "cell_type": "markdown",
   "id": "f938f254",
   "metadata": {},
   "source": [
    "### Random Forest"
   ]
  },
  {
   "cell_type": "code",
   "execution_count": 69,
   "id": "cd47acb7",
   "metadata": {},
   "outputs": [],
   "source": [
    "X_train = X[df['DATASET'] == 1]\n",
    "y_train = y[df['DATASET'] == 1]\n",
    "\n",
    "X_test = X[df['DATASET'] == 0]\n",
    "y_test = y[df['DATASET'] == 0]"
   ]
  },
  {
   "cell_type": "code",
   "execution_count": 70,
   "id": "5b3f1cc9",
   "metadata": {},
   "outputs": [
    {
     "data": {
      "text/plain": [
       "RandomForestClassifier(random_state=42)"
      ]
     },
     "execution_count": 70,
     "metadata": {},
     "output_type": "execute_result"
    }
   ],
   "source": [
    "rf_model = RandomForestClassifier(n_estimators=100, random_state=42)\n",
    "rf_model.fit(X_train, y_train)"
   ]
  },
  {
   "cell_type": "code",
   "execution_count": 71,
   "id": "2c097014",
   "metadata": {},
   "outputs": [],
   "source": [
    "y_pred = rf_model.predict(X_test)\n",
    "r2 = r2_score(y_test, y_pred)"
   ]
  },
  {
   "cell_type": "code",
   "execution_count": 72,
   "id": "15f6f470",
   "metadata": {},
   "outputs": [
    {
     "name": "stdout",
     "output_type": "stream",
     "text": [
      "Accuracy:  0.2776506483600305\n",
      "Precision:  0.4579787053659756\n",
      "R-squared:  -2.5881807268361885\n",
      "Mean Squared Error (MSE):  0.7269260106788711\n"
     ]
    }
   ],
   "source": [
    "mse = mean_squared_error(y_test, y_pred)\n",
    "precision = precision_score(y_test, y_pred, average='weighted')\n",
    "accuracy = accuracy_score(y_test, y_pred)\n",
    "print(\"Accuracy: \", accuracy)\n",
    "print(\"Precision: \", precision)\n",
    "print(\"R-squared: \", r2)\n",
    "print(\"Mean Squared Error (MSE): \", mse)"
   ]
  },
  {
   "cell_type": "markdown",
   "id": "10fcf1b9",
   "metadata": {},
   "source": [
    "### SVM"
   ]
  },
  {
   "cell_type": "code",
   "execution_count": 73,
   "id": "d463bd9f",
   "metadata": {},
   "outputs": [
    {
     "name": "stdout",
     "output_type": "stream",
     "text": [
      "R-squared score on test set: -2.591945869256793\n",
      "MSE on test set: 0.7276887871853547\n",
      "Accuracy: 0.2768878718535469\n",
      "Precision: 0.07666689357958621\n",
      "Recall: 0.2768878718535469\n",
      "F1 score: 0.1200839874346924\n",
      "Confusion matrix:\n",
      " [[  0   0   2]\n",
      " [  0   0 946]\n",
      " [  0   0 363]]\n"
     ]
    }
   ],
   "source": [
    "# Standardize the data\n",
    "scaler = StandardScaler()\n",
    "X_train = scaler.fit_transform(X_train)\n",
    "X_test = scaler.transform(X_test)\n",
    "\n",
    "# Define hyperparameters to tune\n",
    "hyperparams = {'C': [0.01, 0.1, 1, 10, 100], 'kernel': ['linear', 'rbf'], 'gamma': ['scale', 'auto']}\n",
    "\n",
    "# Perform hyperparameter tuning using k-fold cross-validation\n",
    "grid_search = GridSearchCV(SVC(probability=True), hyperparams, cv=5, scoring='roc_auc')\n",
    "grid_search.fit(X_train, y_train)\n",
    "best_svc = grid_search.best_estimator_\n",
    "\n",
    "# Make predictions on test set\n",
    "y_pred = best_svc.predict(X_test)\n",
    "y_prob = best_svc.predict_proba(X_test)[:, 1]\n",
    "\n",
    "# Calculate performance metrics\n",
    "svm_acc = accuracy_score(y_test, y_pred)\n",
    "svm_prec = precision_score(y_test, y_pred, average = \"weighted\")\n",
    "rec = recall_score(y_test, y_pred, average = \"weighted\")\n",
    "f1 = f1_score(y_test, y_pred, average = \"weighted\")\n",
    "svm_cm = confusion_matrix(y_test, y_pred)\n",
    "\n",
    "\n",
    "svm_r2 = r2_score(y_test, y_pred)\n",
    "print(\"R-squared score on test set:\", svm_r2)\n",
    "\n",
    "svm_mse = mean_squared_error(y_test, y_pred)\n",
    "print(\"MSE on test set:\", svm_mse)\n",
    "\n",
    "# Print performance metrics\n",
    "print('Accuracy:', svm_acc)\n",
    "print('Precision:', svm_prec)\n",
    "print('Recall:', rec)\n",
    "print('F1 score:', f1)\n",
    "print('Confusion matrix:\\n', svm_cm)"
   ]
  },
  {
   "cell_type": "markdown",
   "id": "f34659b0",
   "metadata": {},
   "source": [
    "##  MARS as test set and Heineken as training set"
   ]
  },
  {
   "cell_type": "markdown",
   "id": "39411b86",
   "metadata": {},
   "source": [
    "### OLS"
   ]
  },
  {
   "cell_type": "code",
   "execution_count": 60,
   "id": "81badd6c",
   "metadata": {},
   "outputs": [
    {
     "name": "stdout",
     "output_type": "stream",
     "text": [
      "Cross-validated OLS R-squared scores: [ 0.08037875  0.17018217  0.22565397  0.14385277  0.00659992 -0.02169882\n",
      "  0.12650711 -0.54396727  0.22365633  0.0859205 ]\n",
      "Mean R-squared score: 0.0497085430860104\n",
      "R-squared score on test set: -2.954584808814272e+23\n",
      "MSE on test set: 2.779842627080638e+22\n"
     ]
    }
   ],
   "source": [
    "y = df[['learn']]\n",
    "X = df.drop(columns=[\"learn\"])\n",
    "\n",
    "X_train = X[df['DATASET'] == 0]\n",
    "y_train = y[df['DATASET'] == 0]\n",
    "\n",
    "X_test = X[df['DATASET'] == 1]\n",
    "y_test = y[df['DATASET'] == 1]\n",
    "\n",
    "# Create linear regression object called ols\n",
    "ols = LinearRegression(fit_intercept=True)\n",
    "\n",
    "# Train the model using the training sets\n",
    "ols.fit(X_train, y_train)\n",
    "\n",
    "# Perform cross-validation and calculate R-squared scores\n",
    "ols_scores = cross_val_score(ols, X_train, y_train, cv=10, scoring='r2')\n",
    "mean_r2 = np.mean(ols_scores)\n",
    "print(\"Cross-validated OLS R-squared scores:\", ols_scores)\n",
    "print(\"Mean R-squared score:\", mean_r2)\n",
    "\n",
    "# Make predictions on test set\n",
    "y_predict = ols.predict(X_test)\n",
    "\n",
    "# Calculate R-squared score on test set\n",
    "r2 = r2_score(y_test, y_predict)\n",
    "print(\"R-squared score on test set:\", r2)\n",
    "\n",
    "# Calculate MSE on test set\n",
    "y_pred = ols.predict(X_test)\n",
    "# print(\"Mean Squared Error: {}\".format(mse))\n",
    "mse = mean_squared_error(y_test, y_pred)\n",
    "print(\"MSE on test set:\", mse)"
   ]
  },
  {
   "cell_type": "markdown",
   "id": "e72e7171",
   "metadata": {},
   "source": [
    "### Ridge"
   ]
  },
  {
   "cell_type": "code",
   "execution_count": 63,
   "id": "e24060a0",
   "metadata": {},
   "outputs": [
    {
     "name": "stdout",
     "output_type": "stream",
     "text": [
      "R-squared score on test set: -2055775840103435.2\n",
      "MSE is:  516910261645974.1\n"
     ]
    }
   ],
   "source": [
    "# Add in 3-degree polynomial of the X variables\n",
    "Xr = pd.DataFrame(PolynomialFeatures(degree = 3).fit_transform(X))\n",
    "  \n",
    "# Create training and test sets\n",
    "X_train = Xr[df['DATASET'] == 0]\n",
    "y_train = y[df['DATASET'] == 0]\n",
    "\n",
    "X_test = Xr[df['DATASET'] == 1]\n",
    "y_test = y[df['DATASET'] == 1]\n",
    "\n",
    "# Create a ridge regressor object called ridge\n",
    "ridge = Ridge(normalize = True, alpha = 0.1)\n",
    "\n",
    "# Train the ridge model using the training sets (the polynomial factors are in the data)\n",
    "ridge.fit(X_train, y_train)\n",
    "\n",
    "# The coefficients\n",
    "ridge.coef_\n",
    "#ridge.r\n",
    "\n",
    "y_pred = ridge.predict(Xr)\n",
    "ridge_r2 = r2_score(y, y_pred)\n",
    "print(\"R-squared score on test set:\", ridge_r2)\n",
    "ridge_mse = mean_squared_error(y, y_pred)\n",
    "print('MSE is: ', ridge_mse)"
   ]
  },
  {
   "cell_type": "markdown",
   "id": "cbeed229",
   "metadata": {},
   "source": [
    "### Neural Network"
   ]
  },
  {
   "cell_type": "code",
   "execution_count": 76,
   "id": "926b725b",
   "metadata": {},
   "outputs": [
    {
     "name": "stdout",
     "output_type": "stream",
     "text": [
      "R-squared score on test set: -8.759442993907749\n",
      "MSE on test set: 0.9182242990654206\n",
      "Accuracy: 0.12383177570093458\n",
      "Precision: 0.7626075680369261\n",
      "Recall: 0.12383177570093458\n",
      "F1 Score: 0.0671995170981292\n",
      "Confusion matrix:\n",
      " [[  0   0   0]\n",
      " [  1  85   4]\n",
      " [ 12 733  21]]\n"
     ]
    }
   ],
   "source": [
    "# standardize the data\n",
    "scaler = StandardScaler()\n",
    "Xn = scaler.fit_transform(X)\n",
    "\n",
    "# split the standardized dataset into training and testing sets\n",
    "X_train = Xn[df['DATASET'] == 0]\n",
    "X_test = Xn[df['DATASET'] == 1]\n",
    "\n",
    "# create a neural network model with L2 regularization\n",
    "model = MLPClassifier(hidden_layer_sizes=(50,), alpha=0.1, solver='adam', random_state=11)\n",
    "\n",
    "# train the model on the training data\n",
    "model.fit(X_train, y_train)\n",
    "\n",
    "# make predictions on the testing data\n",
    "y_pred = model.predict(X_test)\n",
    "\n",
    "# calculate performance metrics\n",
    "nn_accuracy = accuracy_score(y_test, y_pred)\n",
    "nn_precision = precision_score(y_test, y_pred, average = \"weighted\")\n",
    "recall = recall_score(y_test, y_pred, average = \"weighted\")\n",
    "f1 = f1_score(y_test, y_pred, average = \"weighted\")\n",
    "cm = confusion_matrix(y_test, y_pred)\n",
    "\n",
    "nn_r2 = r2_score(y_test, y_pred)\n",
    "print(\"R-squared score on test set:\", nn_r2)\n",
    "\n",
    "nn_mse = mean_squared_error(y_test, y_pred)\n",
    "print(\"MSE on test set:\", nn_mse)\n",
    "\n",
    "# print the performance metrics\n",
    "print(\"Accuracy:\", nn_accuracy)\n",
    "print(\"Precision:\", nn_precision)\n",
    "print(\"Recall:\", recall)\n",
    "print(\"F1 Score:\", f1)\n",
    "print('Confusion matrix:\\n', cm)"
   ]
  },
  {
   "cell_type": "markdown",
   "id": "18567619",
   "metadata": {},
   "source": [
    "### Random Forest"
   ]
  },
  {
   "cell_type": "code",
   "execution_count": 77,
   "id": "aa363745",
   "metadata": {},
   "outputs": [],
   "source": [
    "X_train = X[df['DATASET'] == 0]\n",
    "y_train = y[df['DATASET'] == 0]\n",
    "\n",
    "X_test = X[df['DATASET'] == 1]\n",
    "y_test = y[df['DATASET'] == 1]"
   ]
  },
  {
   "cell_type": "code",
   "execution_count": 78,
   "id": "1d7ba120",
   "metadata": {},
   "outputs": [
    {
     "data": {
      "text/plain": [
       "RandomForestClassifier(random_state=12)"
      ]
     },
     "execution_count": 78,
     "metadata": {},
     "output_type": "execute_result"
    }
   ],
   "source": [
    "rf_model = RandomForestClassifier(random_state=12)\n",
    "rf_model.fit(X_train, y_train)"
   ]
  },
  {
   "cell_type": "code",
   "execution_count": 79,
   "id": "d81b4159",
   "metadata": {},
   "outputs": [],
   "source": [
    "y_pred = rf_model.predict(X_test)\n",
    "r2 = r2_score(y_test, y_pred)"
   ]
  },
  {
   "cell_type": "code",
   "execution_count": 80,
   "id": "6b1eda72",
   "metadata": {},
   "outputs": [
    {
     "name": "stdout",
     "output_type": "stream",
     "text": [
      "Accuracy:  0.11214953271028037\n",
      "Precision:  0.7940370966319873\n",
      "R-squared:  -8.436611546272124\n",
      "Mean Squared Error (MSE):  0.8878504672897196\n"
     ]
    }
   ],
   "source": [
    "mse = mean_squared_error(y_test, y_pred)\n",
    "precision = precision_score(y_test, y_pred, average='weighted')\n",
    "accuracy = accuracy_score(y_test, y_pred)\n",
    "print(\"Accuracy: \", accuracy)\n",
    "print(\"Precision: \", precision)\n",
    "print(\"R-squared: \", r2)\n",
    "print(\"Mean Squared Error (MSE): \", mse)"
   ]
  },
  {
   "cell_type": "code",
   "execution_count": 81,
   "id": "ed684996",
   "metadata": {},
   "outputs": [],
   "source": [
    "feature_names = X.columns.tolist() "
   ]
  },
  {
   "cell_type": "code",
   "execution_count": 82,
   "id": "fba9b86b",
   "metadata": {},
   "outputs": [
    {
     "data": {
      "image/png": "[encoded data removed]",
      "text/plain": [
       "<Figure size 720x576 with 1 Axes>"
      ]
     },
     "metadata": {
      "needs_background": "light"
     },
     "output_type": "display_data"
    }
   ],
   "source": [
    "# Get importance scores\n",
    "importances = rf_model.feature_importances_\n",
    "\n",
    "# Create a pandas DataFrame for easier data manipulation\n",
    "importance_df = pd.DataFrame({\n",
    "    'Feature': feature_names,\n",
    "    'Importance': importances\n",
    "})\n",
    "\n",
    "# Sort the DataFrame by importance scores and select the top 30\n",
    "importance_df = importance_df.sort_values(by='Importance', ascending=False).head(30)\n",
    "\n",
    "# Plot the importances\n",
    "plt.figure(figsize=(10, 8))\n",
    "plt.barh(importance_df['Feature'], importance_df['Importance'], color='skyblue')\n",
    "plt.xlabel('Importance')\n",
    "plt.title('Top 30 Feature Importance')\n",
    "plt.gca().invert_yaxis()  # Invert the y-axis so the feature with the highest importance is at the top\n",
    "plt.show()"
   ]
  },
  {
   "cell_type": "markdown",
   "id": "50d2a2ee",
   "metadata": {},
   "source": [
    "### SVM"
   ]
  },
  {
   "cell_type": "code",
   "execution_count": 83,
   "id": "358abd83",
   "metadata": {},
   "outputs": [
    {
     "name": "stdout",
     "output_type": "stream",
     "text": [
      "R-squared score on test set: -8.511111111111115\n",
      "MSE on test set: 0.8948598130841121\n",
      "Accuracy: 0.10514018691588785\n",
      "Precision: 0.011054458904707834\n",
      "Recall: 0.10514018691588785\n",
      "F1 score: 0.020005532394143564\n",
      "Confusion matrix:\n",
      " [[ 90   0]\n",
      " [766   0]]\n"
     ]
    }
   ],
   "source": [
    "# Standardize the data\n",
    "scaler = StandardScaler()\n",
    "X_train = scaler.fit_transform(X_train)\n",
    "X_test = scaler.transform(X_test)\n",
    "\n",
    "# Define hyperparameters to tune\n",
    "hyperparams = {'C': [0.01, 0.1, 1, 10, 100], 'kernel': ['linear', 'rbf'], 'gamma': ['scale', 'auto']}\n",
    "\n",
    "# Perform hyperparameter tuning using k-fold cross-validation\n",
    "grid_search = GridSearchCV(SVC(probability=True), hyperparams, cv=5, scoring='roc_auc')\n",
    "grid_search.fit(X_train, y_train)\n",
    "best_svc = grid_search.best_estimator_\n",
    "\n",
    "# Make predictions on test set\n",
    "y_pred = best_svc.predict(X_test)\n",
    "y_prob = best_svc.predict_proba(X_test)[:, 1]\n",
    "\n",
    "# Calculate performance metrics\n",
    "svm_acc = accuracy_score(y_test, y_pred)\n",
    "svm_prec = precision_score(y_test, y_pred, average = \"weighted\")\n",
    "rec = recall_score(y_test, y_pred, average = \"weighted\")\n",
    "f1 = f1_score(y_test, y_pred, average = \"weighted\")\n",
    "svm_cm = confusion_matrix(y_test, y_pred)\n",
    "\n",
    "\n",
    "svm_r2 = r2_score(y_test, y_pred)\n",
    "print(\"R-squared score on test set:\", svm_r2)\n",
    "\n",
    "svm_mse = mean_squared_error(y_test, y_pred)\n",
    "print(\"MSE on test set:\", svm_mse)\n",
    "\n",
    "# Print performance metrics\n",
    "print('Accuracy:', svm_acc)\n",
    "print('Precision:', svm_prec)\n",
    "print('Recall:', rec)\n",
    "print('F1 score:', f1)\n",
    "print('Confusion matrix:\\n', svm_cm)"
   ]
  }
 ],
 "metadata": {
  "kernelspec": {
   "display_name": "Python 3 (ipykernel)",
   "language": "python",
   "name": "python3"
  },
  "language_info": {
   "codemirror_mode": {
    "name": "ipython",
    "version": 3
   },
   "file_extension": ".py",
   "mimetype": "text/x-python",
   "name": "python",
   "nbconvert_exporter": "python",
   "pygments_lexer": "ipython3",
   "version": "3.9.12"
  }
 },
 "nbformat": 4,
 "nbformat_minor": 5
}
